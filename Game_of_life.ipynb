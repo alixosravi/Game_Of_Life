{
  "nbformat": 4,
  "nbformat_minor": 0,
  "metadata": {
    "colab": {
      "provenance": [],
      "authorship_tag": "ABX9TyMrJ9RrOSeiVoeQ66jJfxk8",
      "include_colab_link": true
    },
    "kernelspec": {
      "name": "python3",
      "display_name": "Python 3"
    },
    "language_info": {
      "name": "python"
    }
  },
  "cells": [
    {
      "cell_type": "markdown",
      "metadata": {
        "id": "view-in-github",
        "colab_type": "text"
      },
      "source": [
        "<a href=\"https://colab.research.google.com/github/alixosravi/Game_Of_Life/blob/main/Game_of_life.ipynb\" target=\"_parent\"><img src=\"https://colab.research.google.com/assets/colab-badge.svg\" alt=\"Open In Colab\"/></a>"
      ]
    },
    {
      "cell_type": "code",
      "execution_count": 32,
      "metadata": {
        "id": "ZQ9FJ5mI7Jvv"
      },
      "outputs": [],
      "source": [
        "import numpy as np\n",
        "from matplotlib import pyplot as plt\n",
        "import time\n",
        "from IPython.display import  clear_output\n",
        "from time import sleep\n",
        "from tqdm import tqdm\n",
        "import random"
      ]
    },
    {
      "cell_type": "code",
      "source": [
        "universe = np.zeros((20, 20))\n",
        "for i in [random.randint(5, 15) for _ in range(7)]:\n",
        "  for j in [random.randint(5, 15) for _ in range(7)]:\n",
        "      universe[i, j] = 1\n"
      ],
      "metadata": {
        "id": "WdS7Fj-v8JKZ"
      },
      "execution_count": 33,
      "outputs": []
    },
    {
      "cell_type": "code",
      "source": [
        "plt.imshow(universe)"
      ],
      "metadata": {
        "colab": {
          "base_uri": "https://localhost:8080/",
          "height": 283
        },
        "id": "HOc3tFO5Bp0e",
        "outputId": "c7d5bc0b-1f55-4541-d436-4b4e38ae7c2b"
      },
      "execution_count": 34,
      "outputs": [
        {
          "output_type": "execute_result",
          "data": {
            "text/plain": [
              "<matplotlib.image.AxesImage at 0x7f9767d948e0>"
            ]
          },
          "metadata": {},
          "execution_count": 34
        },
        {
          "output_type": "display_data",
          "data": {
            "text/plain": [
              "<Figure size 432x288 with 1 Axes>"
            ],
            "image/png": "[encoded data removed]"
          },
          "metadata": {
            "needs_background": "light"
          }
        }
      ]
    },
    {
      "cell_type": "code",
      "source": [
        "def find_neighbours(cell_ind: tuple, universe: np.array):\n",
        "  num_neighbours = 0\n",
        "  l0 = universe.shape[0]\n",
        "  l1 = universe.shape[1]\n",
        "\n",
        "  for i in [-1, 0, 1]:\n",
        "    for j in [-1, 0, 1]:\n",
        "      if (i != 0) or (j != 0):\n",
        "          if cell_ind[0] + i == l0:\n",
        "            i = - cell_ind[0]\n",
        "          if cell_ind[1] + j == l1:\n",
        "            j = - cell_ind[1]\n",
        "\n",
        "          if universe[cell_ind[0] + i, cell_ind[1] + j] == 1:\n",
        "            num_neighbours += 1\n",
        "\n",
        "  return num_neighbours"
      ],
      "metadata": {
        "id": "M61mcW2K89gI"
      },
      "execution_count": 37,
      "outputs": []
    },
    {
      "cell_type": "code",
      "source": [
        "def pass_time(universe):\n",
        "    num_neighbours_map = np.zeros(universe.shape)\n",
        "\n",
        "    for i in range(universe.shape[0]):\n",
        "      for j in range(universe.shape[1]):\n",
        "        num_neighbours_map[i, j] = find_neighbours((i, j), universe)\n",
        "    new_universe = np.zeros(universe.shape)\n",
        "    survivors = (universe == 1) & ((num_neighbours_map == 2) | (num_neighbours_map == 3))\n",
        "    zombie = (universe == 0) & (num_neighbours_map == 3)\n",
        "    new_universe = (survivors == 1) | (zombie == 1)\n",
        "    return new_universe"
      ],
      "metadata": {
        "id": "CYTTVoGV_1FE"
      },
      "execution_count": 40,
      "outputs": []
    },
    {
      "cell_type": "code",
      "source": [
        "num_turns = 50\n",
        "new_universe = universe\n",
        "for _ in range(num_turns):\n",
        "  new_universe = pass_time(new_universe)\n",
        "  plt.imshow(new_universe, cmap=\"Greys\")\n",
        "  plt.show()\n",
        "  sleep(0.1)\n",
        "  clear_output(wait=True)"
      ],
      "metadata": {
        "colab": {
          "base_uri": "https://localhost:8080/",
          "height": 265
        },
        "id": "JGr5sW60-Gte",
        "outputId": "6e32e4f5-1489-490a-bf12-56df0135455a"
      },
      "execution_count": 42,
      "outputs": [
        {
          "output_type": "display_data",
          "data": {
            "text/plain": [
              "<Figure size 432x288 with 1 Axes>"
            ],
            "image/png": "[encoded data removed]"
          },
          "metadata": {
            "needs_background": "light"
          }
        }
      ]
    },
    {
      "cell_type": "code",
      "source": [
        "plt.imshow(new_universe, cmap=\"Greys\")"
      ],
      "metadata": {
        "colab": {
          "base_uri": "https://localhost:8080/",
          "height": 283
        },
        "id": "hS2niodo8VQ3",
        "outputId": "f1fe9cdd-440f-4702-f38a-52f6aaa322d3"
      },
      "execution_count": 21,
      "outputs": [
        {
          "output_type": "execute_result",
          "data": {
            "text/plain": [
              "<matplotlib.image.AxesImage at 0x7f9768166640>"
            ]
          },
          "metadata": {},
          "execution_count": 21
        },
        {
          "output_type": "display_data",
          "data": {
            "text/plain": [
              "<Figure size 432x288 with 1 Axes>"
            ],
            "image/png": "[encoded data removed]"
          },
          "metadata": {
            "needs_background": "light"
          }
        }
      ]
    },
    {
      "cell_type": "code",
      "source": [],
      "metadata": {
        "id": "mEgH77sv8cJS"
      },
      "execution_count": null,
      "outputs": []
    }
  ]
}